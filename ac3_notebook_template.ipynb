{
 "cells": [
  {
   "cell_type": "markdown",
   "metadata": {},
   "source": [
    "## General information about this notebook\n",
    "\n",
    "This notebook series has been initiated by the Data Management Project (INF) within the TR-172 [\"ArctiC Amplification: Climate Relevant Atmospheric and SurfaCe Processes, and Feedback Mechanisms\" (AC)³](http://www.ac3-tr.de/) funded by the German Research Foundation (Deutsche Forschungsgemeinschaft, DFG)\n",
    "\n",
    "Author(s) of this notebook: \n",
    " - *your name*, [*institute or university*](*url*), *postal-adress*, *email-adress*\n",
    "\n",
    "Github repository: https://github.com/ac3-tr/ac3-notebooks\n",
    "\n",
    "This notebook is licensed under the [Creative Commons Attribution 4.0 International](http://creativecommons.org/licenses/by/4.0/ \"CC-BY-4.0\")\n",
    "\n",
    "# Dataset description\n",
    "\n",
    "**Title:**     \n",
    "\n",
    "**Authors** \n",
    "\n",
    "**Description**\n",
    "\n",
    "**Year**       \n",
    "\n",
    "**Institutes**  \n",
    "\n",
    "**DOI**        \n",
    "\n",
    "**License**    [Creative Commons Attribution 4.0 International](http://creativecommons.org/licenses/by/4.0/ \"CC-BY-4.0\")\n",
    "\n",
    "## Contents of this notebook\n",
    "\n",
    "*__ explain here what the purpose of this notebook is __*\n"
   ]
  },
  {
   "cell_type": "markdown",
   "metadata": {},
   "source": [
    "## Import relevant modules\n",
    "\n",
    "*__ make sure to only import absolutely necessary modules and use standard ones wherever possible __*\n",
    "*__ standard modules are e.g. matplotlib, numpy, scipy, xarray, cartopy __*"
   ]
  },
  {
   "cell_type": "code",
   "execution_count": null,
   "metadata": {},
   "outputs": [],
   "source": []
  },
  {
   "cell_type": "markdown",
   "metadata": {},
   "source": [
    "## Pre-processing of the imported data\n",
    "\n",
    "*__ explain what needs to be done to import the data __*"
   ]
  },
  {
   "cell_type": "markdown",
   "metadata": {},
   "source": [
    "## Plotting example\n",
    "*__  __*"
   ]
  },
  {
   "cell_type": "code",
   "execution_count": null,
   "metadata": {
    "tags": []
   },
   "outputs": [],
   "source": []
  }
 ],
 "metadata": {
  "kernelspec": {
   "display_name": "Python 3 (ipykernel)",
   "language": "python",
   "name": "python3"
  },
  "language_info": {
   "codemirror_mode": {
    "name": "ipython",
    "version": 3
   },
   "file_extension": ".py",
   "mimetype": "text/x-python",
   "name": "python",
   "nbconvert_exporter": "python",
   "pygments_lexer": "ipython3",
   "version": "3.11.2"
  }
 },
 "nbformat": 4,
 "nbformat_minor": 4
}
