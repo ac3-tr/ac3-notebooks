{
 "cells": [
  {
   "cell_type": "markdown",
   "id": "cde3a18c-dbf6-4ef9-9686-8267e2e4c368",
   "metadata": {},
   "source": [
    "## General information about this notebook\n",
    "\n",
    "This notebook series has been initiated by the Data Management Project (INF) within the TR-172 [\"ArctiC Amplification: Climate Relevant Atmospheric and SurfaCe Processes, and Feedback Mechanisms\" (AC)³](http://www.ac3-tr.de/) funded by the German Research Foundation (Deutsche Forschungsgemeinschaft, DFG)\n",
    "\n",
    "Author(s) of this notebook: \n",
    " - *Nina Maherndl*, [*Leipzig University, Institute of Meteorology (LIM)*](*https://www.physgeo.uni-leipzig.de/institutefuermeteorologie/*), *Stephanstraße 3, 04103 Leipzig*, *nina.maherndl@uni-leipzig.de*\n",
    "\n",
    "Github repository: https://github.com/ac3-tr/ac3-notebooks\n",
    "\n",
    "This notebook is licensed under the [Creative Commons Attribution 4.0 International](http://creativecommons.org/licenses/by/4.0/ \"CC-BY-4.0\")\n",
    "\n",
    "# Dataset description\n",
    "\n",
    "**Title:** Cloudnet target classification during PS106\n",
    "\n",
    "**Author** Griesche, Hannes; Seifert, Patric; Engelmann, Ronny; Radenz, Martin; Bühl, Johannes\n",
    "\n",
    "**Year** 2020\n",
    "\n",
    "**Institutes** Tropos, Leipzig\n",
    "\n",
    "**Data hosted by** [PANGAEA](https://pangaea.de)\n",
    "\n",
    "**DOI** [10.1594/PANGAEA.919463](https://doi.org/10.1594/PANGAEA.919463)\n",
    "\n",
    "**License** [Creative Commons Attribution 4.0 International](https://creativecommons.org/licenses/by/4.0/ \"CC-BY-4.0\")\n",
    "\n",
    "## Abstract\n",
    "The dataset contains daily nc-files of the Cloudnet target classification during Polarstern cruise PS106 based on:\n",
    "- 35.5 GHz Cloud radar MIRA,\n",
    "- Multiwavelength Raman polarization lidar PollyXT,\n",
    "- Polarstern radiosonde data\n",
    "- OceanRAIN optical disdrometer ODM470,\n",
    "- Microwave radiometer.\n",
    "The data is retrieved using the instrument synergystic approach Cloudnet (Illingworth, 2007 https://journals.ametsoc.org/doi/10.1175/BAMS-88-6-883 ).\n",
    "This variable is a simplification of the bitfield \\\"category_bits\\\" in the target categorization and data quality dataset. It provides the 9 main atmospheric target classifications that can be distinguished by radar and lidar.\n",
    "Target_classification:definition \n",
    "\n",
    "0: Clear sky,\n",
    "\n",
    "1: Cloud droplets only,\n",
    "\n",
    "2: Drizzle or rain,\n",
    "\n",
    "3: Drizzle/rain & cloud droplets,\n",
    "\n",
    "4: Ice,\n",
    "\n",
    "5: Ice & supercooled droplets,\n",
    "\n",
    "6: Melting ice,\n",
    "\n",
    "7: Melting ice &cloud droplets,\n",
    "\n",
    "8: Aerosol,\n",
    "\n",
    "9: Insects.\n",
    "\n",
    "\n",
    "## Contents of this notebook\n",
    "The purpose of this notebook is to show how to dowload and use the (AC)³ data set \"Cloudnet target classification during PS106\". It contains the following plotting examples:\n",
    "- location of the research vessel Polarstern (PS)\n",
    "- cloud net target classification during specified day\n",
    "- cloud top height during specified day\n",
    "- cloud base height during specified day\n",
    "- target classification + cloud top and base heights during specified day"
   ]
  },
  {
   "cell_type": "markdown",
   "id": "e1af9cf8-e678-4311-83d7-7ca55ff5eb91",
   "metadata": {},
   "source": [
    "## Import relevant modules"
   ]
  },
  {
   "cell_type": "code",
   "execution_count": 1,
   "id": "a4cc6b7e-1625-495a-80eb-f56adf0185ab",
   "metadata": {},
   "outputs": [],
   "source": [
    "# basics, data handling\n",
    "import numpy as np\n",
    "import pandas as pd\n",
    "import xarray as xr\n",
    "import pangaeapy as pgp\n",
    "import datetime as dt\n",
    "import os\n",
    "\n",
    "# plotting:\n",
    "import matplotlib.pyplot as plt\n",
    "import matplotlib.ticker as mticker\n",
    "from matplotlib import cm\n",
    "from matplotlib.colors import LinearSegmentedColormap\n",
    "\n",
    "# plotting maps\n",
    "import cartopy.crs as ccrs\n",
    "from cartopy.mpl.gridliner import LONGITUDE_FORMATTER, LATITUDE_FORMATTER\n",
    "\n",
    "%matplotlib inline"
   ]
  },
  {
   "cell_type": "markdown",
   "id": "02f4ce87-93c4-4903-bc4b-59123118dc8e",
   "metadata": {},
   "source": [
    "## Pre-processing of the imported data\n",
    "The pangaea python library pangaeapy 0.0.7 (https://pypi.org/project/pangaeapy/#description) is used to get the download links for the dataset."
   ]
  },
  {
   "cell_type": "code",
   "execution_count": 2,
   "id": "e3f5b6c3-9d5e-4a42-9c65-298d4ada81fb",
   "metadata": {
    "tags": []
   },
   "outputs": [],
   "source": [
    "ds = pgp.PanDataSet(919463)"
   ]
  },
  {
   "cell_type": "markdown",
   "id": "5262a958-5513-432e-8735-04e1107f41a3",
   "metadata": {},
   "source": [
    "ds.data contains a pandas dataframe with file information and urls:"
   ]
  },
  {
   "cell_type": "code",
   "execution_count": 3,
   "id": "842d5801-de3f-4c94-883b-2c16768ab142",
   "metadata": {
    "tags": []
   },
   "outputs": [],
   "source": [
    "dl = ds.data"
   ]
  },
  {
   "cell_type": "code",
   "execution_count": null,
   "id": "d20dc1a6-4760-4615-87e4-b34b5a08fafa",
   "metadata": {
    "tags": []
   },
   "outputs": [],
   "source": [
    "dates = []\n",
    "for name in dl['File name'].values:\n",
    "    dates.append(name.split('_')[0][0:4]+'-'+name.split('_')[0][4:6]+'-'+name.split('_')[0][6:8])\n",
    "dl['Date/Time'] = dates"
   ]
  },
  {
   "cell_type": "markdown",
   "id": "93a1a40f-0da6-4537-b36d-465b4fbe76be",
   "metadata": {},
   "source": [
    "### Selecting the date\n",
    "Pick the date from the list that you are interested in."
   ]
  },
  {
   "cell_type": "code",
   "execution_count": null,
   "id": "6082e011-4eb8-4fc1-940e-773a51616463",
   "metadata": {
    "tags": []
   },
   "outputs": [],
   "source": [
    "date = dt.datetime(2017, 5, 24)# default setting"
   ]
  },
  {
   "cell_type": "markdown",
   "id": "61d774ee-e7c9-4c12-ba11-a3e1537105b0",
   "metadata": {},
   "source": [
    "### Take a look at all data:\n",
    "**Attention:** If you select 'download all' you will be downloading all 55 datafiles (about 420 GB)."
   ]
  },
  {
   "cell_type": "code",
   "execution_count": null,
   "id": "1b2e9047-6781-444f-a694-5ef970ee1e22",
   "metadata": {
    "tags": []
   },
   "outputs": [],
   "source": [
    "all_data = False # default setting"
   ]
  },
  {
   "cell_type": "markdown",
   "id": "80b7dfab-1347-45f0-aef9-82a10ab97820",
   "metadata": {},
   "source": [
    "### Downloading the datafile\n",
    "Optional: If you don't care that a new folder will be created and that the data from pangaea (for the day you chose) will be downloaded, then you can go straight to 'Reading in the datafile'. Make sure you run the cells, though.  "
   ]
  },
  {
   "cell_type": "code",
   "execution_count": null,
   "id": "fd20c348-d313-45e9-9063-d77a3133a0e7",
   "metadata": {
    "tags": []
   },
   "outputs": [],
   "source": [
    "# create a folder to save downloaded data in\n",
    "\n",
    "# name and path of folder to download data to\n",
    "datafolder = '../pangaea_download/'\n",
    "\n",
    "if not os.path.exists(datafolder):\n",
    "    os.mkdir(datafolder)\n",
    "else:\n",
    "    print('Download folder already exists!')"
   ]
  },
  {
   "cell_type": "code",
   "execution_count": null,
   "id": "8208b7e2-19ca-4338-9354-5908f5564465",
   "metadata": {
    "tags": []
   },
   "outputs": [],
   "source": [
    "# read url from pangea dataset\n",
    "\n",
    "fname_list = []\n",
    "\n",
    "if all_data == True:\n",
    "    url_list = dl['URL file']\n",
    "    \n",
    "    for url in url_list:\n",
    "        url = str(url)\n",
    "        \n",
    "        fname = url[url.rfind('/')+1:]\n",
    "        fname_list.append(fname)\n",
    "        print ('Link: ', url)\n",
    "        try:\n",
    "            if not os.path.exists(os.path.join(datafolder,fname)):\n",
    "                os.system('wget -O '+os.path.join(datafolder,fname)+' '+url)\n",
    "                print ('Download finished')\n",
    "            else:\n",
    "                print ('File already there...')\n",
    "        except:\n",
    "            print ('Could not download automatically, please try manual download! (Link above)')\n",
    "\n",
    "if all_data == False:\n",
    "    url = dl[dl['Date/Time'] == date.strftime('%Y-%m-%d')]['URL file'].values[0]\n",
    "    \n",
    "    fname = url[url.rfind('/')+1:]\n",
    "    fname_list.append(fname)\n",
    "    print ('Link: ', url)\n",
    "    try:\n",
    "        if not os.path.exists(os.path.join(datafolder,fname)):\n",
    "            os.system('wget -O '+os.path.join(datafolder,fname)+' '+url)\n",
    "            print ('Download finished')\n",
    "        else:\n",
    "            print ('File already there...')\n",
    "    except:\n",
    "        print ('Could not download automatically, please try manual download! (Link above)')"
   ]
  },
  {
   "cell_type": "markdown",
   "id": "3d3a40c0-9d02-4cc8-8620-439c07d935be",
   "metadata": {},
   "source": [
    "## Reading in the datafile\n",
    "The Cloudnet data is stored in nc files including time and height as coordinates:"
   ]
  },
  {
   "cell_type": "code",
   "execution_count": null,
   "id": "19a91d8d-225a-4242-be63-81fbbf375efe",
   "metadata": {
    "tags": []
   },
   "outputs": [],
   "source": [
    "if all_data == True:\n",
    "    print('Attention: all data option was selected, however only last date will be plotted!')\n",
    "    data = xr.open_dataset(os.path.join(datafolder,fname))\n",
    "\n",
    "else:\n",
    "    data = xr.open_dataset(os.path.join(datafolder,fname))"
   ]
  },
  {
   "cell_type": "markdown",
   "id": "f8186e87-719b-49ac-acc5-563362f757f8",
   "metadata": {},
   "source": [
    "# Location of the Polarstern\n",
    "gps coordinates of the Polarstern track are not included in the Cloudnet target classification dataset. If you want to see the location of Polarstern for your chosen date, you have to load the Mastertrack data (https://doi.pangaea.de/10.1594/PANGAEA.881579?format=html#download and https://doi.pangaea.de/10.1594/PANGAEA.881580). The data is also published on pangaea, so it can be read with pangaeapy."
   ]
  },
  {
   "cell_type": "code",
   "execution_count": null,
   "id": "b5426c11-d9cf-4d61-8701-d855900bd23d",
   "metadata": {
    "tags": []
   },
   "outputs": [],
   "source": [
    "track_data1 = pgp.PanDataSet(881579).data\n",
    "track_data2 = pgp.PanDataSet(881580).data\n",
    "track_data = pd.concat([track_data1, track_data2])"
   ]
  },
  {
   "cell_type": "code",
   "execution_count": null,
   "id": "8c537a60-b38c-419d-8d46-4e84606c77d4",
   "metadata": {
    "tags": []
   },
   "outputs": [],
   "source": [
    "track_data = track_data[(track_data['Date/Time'] > date.strftime('%Y-%m-%d 00:00:00')) & \n",
    "                        (track_data['Date/Time'] < date.strftime('%Y-%m-%d 23:59:59'))] "
   ]
  },
  {
   "cell_type": "code",
   "execution_count": null,
   "id": "0b013895-51d5-45c4-86a5-449d304c052c",
   "metadata": {
    "tags": []
   },
   "outputs": [],
   "source": [
    "lat = track_data['Latitude'].values\n",
    "lon = track_data['Longitude'].values"
   ]
  },
  {
   "cell_type": "code",
   "execution_count": null,
   "id": "da66fdb9-4a09-4e7d-a6d6-616af4a6c0c2",
   "metadata": {
    "tags": []
   },
   "outputs": [],
   "source": [
    "fig = plt.figure(figsize=(6,6))\n",
    "\n",
    "ax = fig.add_subplot(1,1,1, projection=ccrs.Orthographic(lon.mean(), lat.mean()))\n",
    "ax.plot(lon, lat, 'bx', transform=ccrs.PlateCarree())\n",
    "ax.set_extent([lon.min()-15, lon.max()+15, lat.min()-5, lat.max()+5], ccrs.PlateCarree())\n",
    "ax.coastlines()\n",
    "ax.set_aspect(0.8)\n",
    "\n",
    "gl = ax.gridlines(crs=ccrs.PlateCarree(), draw_labels=True,\n",
    "                  linewidth=2, color='gray', alpha=0.5, linestyle='--')\n",
    "gl.top_labels = False\n",
    "gl.left_labels = False\n",
    "gl.xformatter = LONGITUDE_FORMATTER\n",
    "gl.yformatter = LATITUDE_FORMATTER"
   ]
  },
  {
   "cell_type": "markdown",
   "id": "9b9e09fa-9047-4010-acdf-b94d3d9c513a",
   "metadata": {},
   "source": [
    "* If this results in an error, make sure to update matplotlib and cartopy. "
   ]
  },
  {
   "cell_type": "markdown",
   "id": "3ec5d00a-953a-43cc-85da-195c0f3a0646",
   "metadata": {},
   "source": [
    "## Plotting example\n",
    "### Cloud net classification "
   ]
  },
  {
   "cell_type": "code",
   "execution_count": null,
   "id": "e5b25ae9-1b8b-49b3-8849-57848e1380fa",
   "metadata": {
    "tags": []
   },
   "outputs": [],
   "source": [
    "colors =  ['white', 'skyblue', 'red', 'blue', 'yellow', 'limegreen', 'orange', 'darkcyan', 'lightgrey', 'grey']\n",
    "cmap = LinearSegmentedColormap.from_list('cloudnet_cmap', colors, N=len(colors))\n",
    "\n",
    "fig, ax = plt.subplots(figsize=(8,4))\n",
    "pc = ax.pcolormesh(data.time.values, data.height.values, data.target_classification.values.T, \n",
    "                   shading='auto', cmap=cmap, vmin=-0.5, vmax=9.5)\n",
    "ax.set_xlabel('time UTC')\n",
    "ax.set_ylabel('height (m)')\n",
    "fig.autofmt_xdate()\n",
    "\n",
    "cb = fig.colorbar(pc, ticks=[0,1,2,3,4,5,6,7,8,9])\n",
    "cb.ax.set_yticklabels(['Clear sky', 'Cloud droplets only', 'Drizzle or rain', 'Drizzle/rain & cloud droplets', \n",
    "                       'Ice', 'Ice & supercooled droplets', 'Melting ice', 'Melting ice &cloud droplets', \n",
    "                       'Aerosol', 'Insects'])\n",
    "plt.show()"
   ]
  },
  {
   "cell_type": "markdown",
   "id": "7c286d75-c5d3-4f8b-b4a8-472daa25312e",
   "metadata": {},
   "source": [
    "### Cloud top height"
   ]
  },
  {
   "cell_type": "code",
   "execution_count": null,
   "id": "0213f641-6b9b-450d-96b6-9fdae6463228",
   "metadata": {
    "tags": []
   },
   "outputs": [],
   "source": [
    "fig, ax = plt.subplots(figsize=(6,4))\n",
    "ax.plot(data.time.values, data.cloud_top_height.values)\n",
    "ax.set_xlabel('time UTC')\n",
    "ax.set_ylabel('height (m)')\n",
    "fig.autofmt_xdate()\n",
    "plt.show()"
   ]
  },
  {
   "cell_type": "markdown",
   "id": "05d1c1fc-96fe-467d-8877-6da5105d9d3a",
   "metadata": {},
   "source": [
    "### Clout base height"
   ]
  },
  {
   "cell_type": "code",
   "execution_count": null,
   "id": "65828203-d1d1-4865-b896-2584812ccc00",
   "metadata": {
    "tags": []
   },
   "outputs": [],
   "source": [
    "fig, ax = plt.subplots(figsize=(6,4))\n",
    "ax.plot(data.time.values, data.cloud_base_height.values)\n",
    "ax.set_xlabel('time UTC')\n",
    "ax.set_ylabel('height (m)')\n",
    "fig.autofmt_xdate()\n",
    "plt.show()"
   ]
  },
  {
   "cell_type": "markdown",
   "id": "24bbc720-7419-4d8b-a677-773d6a117c2d",
   "metadata": {},
   "source": [
    "### Cloud net classification + cloud base and top heights"
   ]
  },
  {
   "cell_type": "code",
   "execution_count": null,
   "id": "7eeb7569-3b01-4844-b33b-ce0fc1f3810e",
   "metadata": {
    "tags": []
   },
   "outputs": [],
   "source": [
    "fig, ax = plt.subplots(figsize=(10,6))\n",
    "pc = ax.pcolormesh(data.time.values, data.height.values, data.target_classification.values.T, \n",
    "                   shading='auto', cmap=cmap, vmin=-0.5, vmax=9.5)\n",
    "\n",
    "ax.plot(data.time.values, data.cloud_top_height.values, 'k', lw=1, label= 'cloud top height')\n",
    "ax.plot(data.time.values, data.cloud_base_height.values, color='darkviolet', lw=1, label= 'cloud base height')\n",
    "\n",
    "ax.set_xlabel('time UTC')\n",
    "ax.set_ylabel('height (m)')\n",
    "\n",
    "fig.autofmt_xdate()\n",
    "\n",
    "cb = fig.colorbar(pc, ticks=[0,1,2,3,4,5,6,7,8,9])\n",
    "cb.ax.set_yticklabels(['Clear sky', 'Cloud droplets only', 'Drizzle or rain', 'Drizzle/rain & cloud droplets', \n",
    "                       'Ice', 'Ice & supercooled droplets', 'Melting ice', 'Melting ice &cloud droplets', \n",
    "                       'Aerosol', 'Insects'])\n",
    "plt.legend(loc='upper right')\n",
    "plt.show()"
   ]
  },
  {
   "cell_type": "code",
   "execution_count": null,
   "id": "1dc01424-9b33-432e-8a86-2d0509e4d1a8",
   "metadata": {},
   "outputs": [],
   "source": []
  },
  {
   "cell_type": "code",
   "execution_count": null,
   "id": "51428510-c1ca-4d7d-af4e-b9fb046cc03b",
   "metadata": {},
   "outputs": [],
   "source": []
  }
 ],
 "metadata": {
  "kernelspec": {
   "display_name": "Python 3 (ipykernel)",
   "language": "python",
   "name": "python3"
  },
  "language_info": {
   "codemirror_mode": {
    "name": "ipython",
    "version": 3
   },
   "file_extension": ".py",
   "mimetype": "text/x-python",
   "name": "python",
   "nbconvert_exporter": "python",
   "pygments_lexer": "ipython3",
   "version": "3.11.3"
  }
 },
 "nbformat": 4,
 "nbformat_minor": 5
}
