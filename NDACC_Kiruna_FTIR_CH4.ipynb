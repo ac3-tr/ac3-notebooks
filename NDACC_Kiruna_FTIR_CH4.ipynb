{
 "cells": [
  {
   "cell_type": "markdown",
   "metadata": {
    "tags": []
   },
   "source": [
    "## General information about this notebook\n",
    "\n",
    "This notebook series has been initiated by the Data Management Project (INF) within the TR-172 [\"ArctiC Amplification: Climate Relevant Atmospheric and SurfaCe Processes, and Feedback Mechanisms\" (AC)³](http://www.ac3-tr.de/) funded by the German Research Foundation (Deutsche Forschungsgemeinschaft, DFG)\n",
    "\n",
    "Author(s) of this notebook: \n",
    " - Jonas Hachmeister, [Institute of Environmental Physics, University Bremen](https://www.iup.uni-bremen.de/deu/), Otto-Hahn-Allee 1 - 28359 Bremen, jonas_h@iup.physik.uni-bremen.de\n",
    "\n",
    "Github repository: https://github.com/ac3-tr/ac3-notebooks\n",
    "\n",
    "This notebook is licensed under the [Creative Commons Attribution 4.0 International](http://creativecommons.org/licenses/by/4.0/ \"CC-BY-4.0\")\n",
    "\n",
    "# Dataset description\n",
    "\n",
    "**Title:** Kiruna FTIR CH$_4$ measurements\n",
    "\n",
    "**Authors** T. Blumenstock (KIT-IMK), U. Raffalski (IRF) (PIs)   \n",
    "\n",
    "**Description** Vertical column abundances and Profiles of several CH$_4$ above Kiruna\n",
    "\n",
    "**Year** 2021       \n",
    "\n",
    "**Institutes** IMK (Institute of Meteorology and Climate Research), Karlsruhe Institute of Technology (KIT)  \n",
    "\n",
    "**DOI** /        \n",
    "\n",
    "**License**    [Creative Commons Attribution 4.0 International](http://creativecommons.org/licenses/by/4.0/ \"CC-BY-4.0\")\n",
    "\n",
    "## Contents of this notebook\n",
    "\n",
    "This notebook provides a minimal working example of reading and plotting the NDACC FTIR data from the Kiruna site. The files are provided in the *.hdf* format.\n",
    "This code should also work with data from other NDACC sites and should be easily adaptable to other atmospheric species.\n"
   ]
  },
  {
   "cell_type": "markdown",
   "metadata": {},
   "source": [
    "## Import relevant modules\n",
    "The following packages are needed to execute this jupyter notebook: *numpy, matplotlib and pyhdf*. The packages will be automatically installed using the pip command when executing the next cell."
   ]
  },
  {
   "cell_type": "code",
   "execution_count": 7,
   "metadata": {},
   "outputs": [
    {
     "name": "stdout",
     "output_type": "stream",
     "text": [
      "Requirement already satisfied: numpy in /home/jonas_h/ch4_py/lib/python3.8/site-packages (1.22.1)\n",
      "Requirement already satisfied: pyhdf in /home/jonas_h/ch4_py/lib/python3.8/site-packages (0.10.5)\n",
      "Requirement already satisfied: matplotlib in /home/jonas_h/ch4_py/lib/python3.8/site-packages (3.5.2)\n",
      "Requirement already satisfied: kiwisolver>=1.0.1 in /home/jonas_h/ch4_py/lib/python3.8/site-packages (from matplotlib) (1.3.1)\n",
      "Requirement already satisfied: cycler>=0.10 in /home/jonas_h/ch4_py/lib/python3.8/site-packages (from matplotlib) (0.10.0)\n",
      "Requirement already satisfied: fonttools>=4.22.0 in /home/jonas_h/ch4_py/lib/python3.8/site-packages (from matplotlib) (4.29.0)\n",
      "Requirement already satisfied: python-dateutil>=2.7 in /home/jonas_h/ch4_py/lib/python3.8/site-packages (from matplotlib) (2.8.1)\n",
      "Requirement already satisfied: packaging>=20.0 in /home/jonas_h/ch4_py/lib/python3.8/site-packages (from matplotlib) (21.3)\n",
      "Requirement already satisfied: pillow>=6.2.0 in /home/jonas_h/ch4_py/lib/python3.8/site-packages (from matplotlib) (8.2.0)\n",
      "Requirement already satisfied: pyparsing>=2.2.1 in /home/jonas_h/ch4_py/lib/python3.8/site-packages (from matplotlib) (2.4.7)\n",
      "Requirement already satisfied: six in /home/jonas_h/ch4_py/lib/python3.8/site-packages (from cycler>=0.10->matplotlib) (1.16.0)\n"
     ]
    }
   ],
   "source": [
    "!pip install numpy pyhdf matplotlib"
   ]
  },
  {
   "cell_type": "code",
   "execution_count": 1,
   "metadata": {},
   "outputs": [],
   "source": [
    "import datetime as dt \n",
    "\n",
    "import numpy as np\n",
    "import matplotlib.pyplot as plt\n",
    "from pyhdf import SD\n"
   ]
  },
  {
   "cell_type": "markdown",
   "metadata": {},
   "source": [
    "## Pre-processing of the imported data\n",
    "\n",
    "The data can be automatically downloaded by executing the following cell (size: ~2 mb)"
   ]
  },
  {
   "cell_type": "code",
   "execution_count": 2,
   "metadata": {},
   "outputs": [],
   "source": [
    "!wget -q \"https://www-air.larc.nasa.gov/cgi-bin/ndaccPub?stations/kiruna/hdf/ftir/groundbased_ftir.ch4_kit001_kiruna_20210125t110758z_20210410t142225z_003.hdf\" -O \"groundbased_ftir.ch4_kit001_kiruna_20210125t110758z_20210410t142225z_003.hdf\""
   ]
  },
  {
   "cell_type": "code",
   "execution_count": 3,
   "metadata": {},
   "outputs": [],
   "source": [
    "path = \"./groundbased_ftir.ch4_kit001_kiruna_20210125t110758z_20210410t142225z_003.hdf\""
   ]
  },
  {
   "cell_type": "markdown",
   "metadata": {},
   "source": [
    "NDACC times use 1.1.2000 as a reference time. We convert the times to use 1.1.1970 as a reference to make them easily plottable by matplotlib."
   ]
  },
  {
   "cell_type": "code",
   "execution_count": 4,
   "metadata": {},
   "outputs": [],
   "source": [
    "T_SHIFT = (dt.datetime(2000,1,1,0,0)-dt.datetime(1970,1,1,0,0)).days + (dt.datetime(2000,1,1,0,0)-dt.datetime(1970,1,1,0,0)).seconds/24/60/60"
   ]
  },
  {
   "cell_type": "markdown",
   "metadata": {},
   "source": [
    "Next we load the *.hdf* file using the SD module of the pyhdf library (see [here](http://fhs.github.io/pyhdf/) for pyhdf documentation)"
   ]
  },
  {
   "cell_type": "code",
   "execution_count": 5,
   "metadata": {},
   "outputs": [],
   "source": [
    "file = SD.SD(path) \n",
    "#print(file.datasets().keys()) # Uncomment to show available variables"
   ]
  },
  {
   "cell_type": "markdown",
   "metadata": {},
   "source": [
    "Next we load the relevant variables. The time, methane profiles, surface pressure and the pressure levels."
   ]
  },
  {
   "cell_type": "code",
   "execution_count": 6,
   "metadata": {},
   "outputs": [],
   "source": [
    "time = file.select(\"DATETIME\").get() + T_SHIFT\n",
    "ch4 = file.select(\"CH4.MIXING.RATIO.VOLUME_ABSORPTION.SOLAR\").get()\n",
    "ps = file.select(\"SURFACE.PRESSURE_INDEPENDENT\").get()\n",
    "p = file.select(\"PRESSURE_INDEPENDENT\").get()"
   ]
  },
  {
   "cell_type": "markdown",
   "metadata": {},
   "source": [
    "## Plotting example"
   ]
  },
  {
   "cell_type": "markdown",
   "metadata": {},
   "source": [
    "First we plot the surface pressure as the function of time"
   ]
  },
  {
   "cell_type": "code",
   "execution_count": 8,
   "metadata": {},
   "outputs": [
    {
     "data": {
      "image/png": "[encoded data removed]",
      "text/plain": [
       "<Figure size 720x360 with 1 Axes>"
      ]
     },
     "metadata": {
      "needs_background": "light"
     },
     "output_type": "display_data"
    }
   ],
   "source": [
    "fig = plt.figure(figsize=(10,5))\n",
    "ax = fig.add_subplot(111)\n",
    "ax.scatter(time, ps)\n",
    "ax.xaxis_date()\n",
    "ax.set_ylabel(\"Surface Pressure [hPa]\")\n",
    "plt.show()"
   ]
  },
  {
   "cell_type": "markdown",
   "metadata": {},
   "source": [
    "We can also plot individual methane profiles:"
   ]
  },
  {
   "cell_type": "code",
   "execution_count": 19,
   "metadata": {},
   "outputs": [
    {
     "name": "stdout",
     "output_type": "stream",
     "text": [
      "Index: 0, Date:  2021-01-25 11:07:57.504000\n"
     ]
    }
   ],
   "source": [
    "idx = 0\n",
    "print(f\"Index: {idx}, Date: \",dt.datetime(1970,1,1)+dt.timedelta(days=time[idx]))"
   ]
  },
  {
   "cell_type": "code",
   "execution_count": 20,
   "metadata": {},
   "outputs": [
    {
     "data": {
      "image/png": "[encoded data removed]",
      "text/plain": [
       "<Figure size 720x720 with 1 Axes>"
      ]
     },
     "metadata": {
      "needs_background": "light"
     },
     "output_type": "display_data"
    }
   ],
   "source": [
    "fig = plt.figure(figsize=(10,10))\n",
    "ax = fig.add_subplot(111)\n",
    "ax.plot(ch4[idx]*1000,p[idx])\n",
    "ax.set_ylim(1000,-10)\n",
    "ax.set_ylabel(\"Pressure [hPa]\")\n",
    "ax.set_xlabel(\"CH$_4$ [ppb]\")\n",
    "plt.show()"
   ]
  },
  {
   "cell_type": "markdown",
   "metadata": {},
   "source": [
    "Finally we want to calculate a time series of column-averaged methane. For this we first have to calculate the XCH$_4$ using a pressure weighting function (see [here](https://doi.org/10.1029/2006JD008336))"
   ]
  },
  {
   "cell_type": "code",
   "execution_count": 21,
   "metadata": {},
   "outputs": [],
   "source": [
    "def pressure_weighting_func(pl: np.array, p_surf: float=None) -> np.array:\n",
    "    \"\"\"Pressure weighting function, see Connor et al. 2008\"\"\"\n",
    "    if p_surf == None:\n",
    "        p_surf=pl[0]\n",
    "\n",
    "    h = np.zeros(pl.shape[0])\n",
    "\n",
    "    h[0]=np.abs((-pl[0]+(pl[1]-pl[0])/np.log(pl[1]/pl[0])))/(p_surf)\n",
    "    i=pl.shape[0]-1\n",
    "    h[i]=np.abs((pl[i]-(pl[i]-pl[i-\n",
    "                                 1])/np.log(pl[i]/pl[i-1])))/(p_surf)\n",
    "\n",
    "    for i in range(1,pl.shape[0]-1):\n",
    "        h[i] = np.abs((-pl[i]+(pl[i+1]-pl[i])/np.log(pl[i+1]/pl[i]))+\n",
    "        (pl[i]-(pl[i]-pl[i-1])/np.log(pl[i]/pl[i-1]))  )/p_surf\n",
    "\n",
    "    return h"
   ]
  },
  {
   "cell_type": "code",
   "execution_count": 22,
   "metadata": {},
   "outputs": [],
   "source": [
    "xch4 = np.zeros(time.shape)\n",
    "for i in range(0,xch4.shape[0]):\n",
    "    _pw = pressure_weighting_func(p[i],p_surf=ps[i])\n",
    "    xch4[i]=np.dot(_pw,ch4[i])"
   ]
  },
  {
   "cell_type": "code",
   "execution_count": 23,
   "metadata": {},
   "outputs": [
    {
     "data": {
      "image/png": "[encoded data removed]",
      "text/plain": [
       "<Figure size 720x360 with 1 Axes>"
      ]
     },
     "metadata": {
      "needs_background": "light"
     },
     "output_type": "display_data"
    }
   ],
   "source": [
    "fig = plt.figure(figsize=(10,5))\n",
    "ax = fig.add_subplot(111)\n",
    "ax.scatter(time, xch4*1000)\n",
    "ax.set_ylabel(\"XCH$_4$ [ppb]\")\n",
    "ax.xaxis_date()"
   ]
  },
  {
   "cell_type": "code",
   "execution_count": null,
   "metadata": {},
   "outputs": [],
   "source": []
  }
 ],
 "metadata": {
  "kernelspec": {
   "display_name": "Python 3",
   "language": "python",
   "name": "python3"
  },
  "language_info": {
   "codemirror_mode": {
    "name": "ipython",
    "version": 3
   },
   "file_extension": ".py",
   "mimetype": "text/x-python",
   "name": "python",
   "nbconvert_exporter": "python",
   "pygments_lexer": "ipython3",
   "version": "3.8.10"
  }
 },
 "nbformat": 4,
 "nbformat_minor": 4
}
