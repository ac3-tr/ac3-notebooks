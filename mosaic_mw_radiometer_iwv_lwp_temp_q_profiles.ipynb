{
  "metadata": {
    "kernelspec": {
      "name": "python",
      "display_name": "Python (Pyodide)",
      "language": "python"
    },
    "language_info": {
      "codemirror_mode": {
        "name": "python",
        "version": 3
      },
      "file_extension": ".py",
      "mimetype": "text/x-python",
      "name": "python",
      "nbconvert_exporter": "python",
      "pygments_lexer": "ipython3",
      "version": "3.8"
    }
  },
  "nbformat_minor": 4,
  "nbformat": 4,
  "cells": [
    {
      "cell_type": "markdown",
      "source": "## General information about this notebook\n\nThis notebook series has been initiated by the Data Management Project (INF) within the TR-172 [\"ArctiC Amplification: Climate Relevant Atmospheric and SurfaCe Processes, and Feedback Mechanisms\" (AC)³](http://www.ac3-tr.de/) funded by the German Research Foundation (Deutsche Forschungsgemeinschaft, DFG)\n\nAuthor(s) of this notebook: \n - *Andreas Walbröl*, [*Institute for Geophysics and Meteorology, University of Cologne*](https://geomet.uni-koeln.de/), *Pohligstr. 3, 50969 Cologne*, *a.walbroel@uni-koeln.de*\n\nGithub repository: https://github.com/ac3-tr/ac3-notebooks\n\nThis notebook is licensed under the [Creative Commons Attribution 4.0 International](http://creativecommons.org/licenses/by/4.0/ \"CC-BY-4.0\")\n\n# Dataset description\n\n**Title:**\n- Integrated water vapour derived from the MiRAC-P microwave radiometer onboard the Polarstern during the MOSAiC expedition\n- Temperature and humidity profiles, integrated water vapour and liquid water path derived from the HATPRO microwave radiometer onboard the Polarstern during the MOSAiC expedition\n\n**Authors** \n- Walbröl, Andreas; Orlandi, Emiliano; Crewell, Susanne; Ebell, Kerstin\n- Ebell, Kerstin; Walbröl, Andreas; Engelmann, Ronny; Griesche, Hannes; Radenz, Martin; Hofer, Julian; Althausen, Dietrich\n\n**Description**\n- The data set contains daily files of path integrated amount of water vapour (precipitable water, prw) derived from the MiRAC-P (or LHUMPRO-243-340) microwave radiometer (see Mech et al., 2019) onboard the Polarstern during cruise PS122 (MOSAiC expedition). The data covers the range October 2019 to October 2020. MiRAC-P measures atmospheric radiation in six double side band averaged G band (183.31 +/- 0.6 to 183.31 +/- 7.5 GHz) and two higher frequency (243 and 340 GHz) channels. The different sensitivity to humidity of the channels allow a derivation of the path integrated amount of water vapour (prw). A Neural Network retrieval has been used to derive prw. The uncertainty of prw is given as the variable's comment attribute and describes the expected standard error. Prw is provided for all available times so that it is up to the user to decide whether or not to use the values if quality flags are set.\n- The data set contains daily files of path integrated amount of water vapour (precipitable water, prw) and cloud liquid (clwvi), as well as temperature (ta) and humidity (hua) profiles derived from the HATPRO microwave radiometer (see Rose et al., 2005) onboard the Polarstern during cruise PS122 (MOSAiC expedition). The data covers the range October 2019 to October 2020. HATPRO measures atmospheric radiation in seven K band (22.24 - 31.4 GHz) channels, which are sensitive to water vapour profiles, precipitable water and cloud liquid water. The seven V band (51.26 - 58 GHz) channels are sensitive to atmospheric temperature and therefore applicable to derive the temperature profiles. Multivariate regression retrievals have been used to derive the atmospheric variables (see Löhnert and Crewell, 2003, Löhnert and Maier, 2012 and Nomokonova et al. 2019). Temperature profiles have been retrieved from both zenith (mwr00) and boundary layer (mwrBL00) modes. The uncertainties of the variables describe the expected standard error (prw_err, clwvi_err, ...). Each retrieved variable is provided for all available times so that it is up to the user to decide whether or not to use the values if quality flags are set.\n\n**Year**       \n- 2022\n- 2022\n\n**Institutes**  \n- Institute for Geophysics and Meteorology, University of Cologne\n- Institute for Geophysics and Meteorology, University of Cologne\n\n**DOI**        \n- [https://doi.org/10.1594/PANGAEA.941470](https://doi.org/10.1594/PANGAEA.941470)\n- [https://doi.org/10.1594/PANGAEA.941389](https://doi.org/10.1594/PANGAEA.941389)\n\n**License**    [Creative Commons Attribution 4.0 International](http://creativecommons.org/licenses/by/4.0/ \"CC-BY-4.0\")\n\n## Contents of this notebook\n\nThis notebook provides an example how to import and visualize integrated water vapour (prw), liquid water path (clwvi), temperature profiles (ta) and humidity profiles (hua) derived from microwave radiometer measurements during the MOSAiC expedition (POLARSTERN cruise PS122). Be aware that if you download all variables MOSAiC year, you need roughly 25 GB of disk space. The temperature and humidity profile data require most space. \n\nIn this example, the integrated water vapour (prw) and liquid water path (clwvi) will be plotted for the whole available period while temperature and humidity profiles are only shown for a few days because of memory usage.\n",
      "metadata": {}
    },
    {
      "cell_type": "markdown",
      "source": "## Import relevant modules\n\nThe following packages are needed for this notebook: _xarray_, _numpy_, _matplotlib_",
      "metadata": {}
    },
    {
      "cell_type": "code",
      "source": "import xarray as xr\nimport numpy as np\nimport glob\nimport datetime as dt\nimport matplotlib as mpl\nimport matplotlib.pyplot as plt\nimport matplotlib.dates as mdates",
      "metadata": {
        "trusted": true
      },
      "execution_count": null,
      "outputs": []
    },
    {
      "cell_type": "markdown",
      "source": "## Pre-processing of the imported data\n\nDownload the data you would like to plot (i.e., integrated water vapour (prw), liquid water path (clwvi), ...) and save them in the same folder as your notebook.",
      "metadata": {}
    },
    {
      "cell_type": "code",
      "source": "def find_files_daterange(\n    all_files, \n    date_start_dt, \n    date_end_dt,\n    idx):\n\n    \"\"\"\n    Filter from a given set of files the correct ones within the date range\n    date_start_dt - date_end_dt (including start and end date).\n\n    Parameters:\n    -----------\n    all_files : list of str\n        List of str that includes all the files.\n    date_start_dt : datetime object\n        Start date as a datetime object.\n    date_end_dt : datetime object\n        End date as a datetime object.\n    idx : list of int\n        List of int where the one entry specifies the start and the second one\n        the end of the date string in any all_files item (i.e., [-17,-9]).\n    \"\"\"\n\n    files = list()\n    for pot_file in all_files:\n        # check if file is within our date range:\n        file_dt = dt.datetime.strptime(pot_file[idx[0]:idx[1]], \"%Y%m%d\")\n        if (file_dt >= date_start_dt) & (file_dt <= date_end_dt):\n            files.append(pot_file)\n\n    return files\n\n\npath_data = \"./\"\ndate_start = \"2020-04-19\"    # start date of the temperature and humidity profiles, in yyyy-mm-dd\ndate_end = \"2020-04-20\"      # end date of the temperature and humidity profiles, in yyyy-mm-dd\n\ndate_start_dt = dt.datetime.strptime(date_start, \"%Y-%m-%d\")\ndate_end_dt = dt.datetime.strptime(date_end, \"%Y-%m-%d\")\n\n\n# identify files:\nall_files = {'prw': sorted(glob.glob(path_data + \"ioppol_tro_mwr00_l2_prw_v01_*.nc\")),\n             'clwvi': sorted(glob.glob(path_data + \"ioppol_tro_mwr00_l2_clwvi_v01_*.nc\")),\n             'hua': sorted(glob.glob(path_data + \"ioppol_tro_mwr00_l2_hua_v01_*.nc\")),\n             'ta': sorted(glob.glob(path_data + \"ioppol_tro_mwr00_l2_ta_v01_*.nc\")),\n             'ta_bl': sorted(glob.glob(path_data + \"ioppol_tro_mwrBL00_l2_ta_v01_*.nc\"))\n            }\nall_files_mir = {'prw': sorted(glob.glob(path_data + \"MOSAiC_uoc_lhumpro-243-340_l2_prw_v01*.nc\"))}\n\n# limit temperature and humidity profiles to the desired date range:\nfor key in ['hua', 'ta', 'ta_bl']:\n    all_files[key] = find_files_daterange(all_files[key], date_start_dt, date_end_dt, [-17,-9])\n\n\n# Import retrieved data:\nHATPRO_DS = dict()    # dictionary containing xarray datasets:\nfor key in all_files.keys():\n    HATPRO_DS[key] = xr.open_mfdataset(all_files[key], concat_dim='time', combine='nested')\nMIRAC_DS = {'prw': xr.open_mfdataset(all_files_mir['prw'], concat_dim='time', combine='nested')}\n\n\n# Filter flagged values (flag > 0):\nfor key in HATPRO_DS.keys():\n    ok_idx = np.where((HATPRO_DS[key].flag.values == 0) | (np.isnan(HATPRO_DS[key].flag.values)))[0]\n    HATPRO_DS[key] = HATPRO_DS[key].isel(time=ok_idx)\n\nok_idx = np.where((MIRAC_DS['prw'].flag.values == 0) | (np.isnan(MIRAC_DS['prw'].flag.values)))[0]\nMIRAC_DS['prw'] = MIRAC_DS['prw'].isel(time=ok_idx)",
      "metadata": {},
      "execution_count": null,
      "outputs": []
    },
    {
      "cell_type": "markdown",
      "source": "## Plotting example\n\n**Time series of integrated water vapour and liquid water path:**",
      "metadata": {}
    },
    {
      "cell_type": "code",
      "source": "f1 = plt.figure(figsize=(10,15))\nax_iwv = plt.subplot2grid((2,1), (0,0))    # IWV (prw)\nax_lwp = plt.subplot2grid((2,1), (1,0))    # LWP (clwvi)\n\n# axis limits:\niwv_lims = [0, 35]    # in kg m-2\nlwp_lims = [0, 750]   # in g m-2\n\n# plot iwv and lwp:\nax_iwv.plot(HATPRO_DS['prw'].time.values, HATPRO_DS['prw'].prw.values, color='blue', label='HATPRO')\nax_iwv.plot(MIRAC_DS['prw'].time.values, MIRAC_DS['prw'].prw.values, color='cyan', label='MiRAC-P')\nax_lwp.plot(HATPRO_DS['clwvi'].time.values, HATPRO_DS['clwvi'].clwvi.values*1000.0, color='k')\n\n# legend:\nax_iwv.legend()\n\n# labels:\nax_iwv.set_ylabel(\"Integrated water vapour ($\\mathrm{kg}\\,\\mathrm{m}^{-2}$)\")\nax_lwp.set_xlabel(\"Time\")\nax_lwp.set_ylabel(\"Liquid water path ($\\mathrm{g}\\,\\mathrm{m}^{-2}$)\")",
      "metadata": {
        "tags": [],
        "trusted": true
      },
      "execution_count": null,
      "outputs": []
    },
    {
      "cell_type": "markdown",
      "source": "**Time-height cross section of temperature and humidity profiles:**",
      "metadata": {}
    },
    {
      "cell_type": "code",
      "source": "# colormaps and levels:\nrho_v_cmap = mpl.cm.gist_earth\ntemp_cmap = mpl.cm.nipy_spectral\nrho_v_levels = np.arange(0, 5.51, 0.2)    # in g m-3\ntemp_levels = np.arange(200, 285.001, 2)    # in K\n\n\nfig1 = plt.figure(figsize=(10,15))\nax_hua = plt.subplot2grid((3,1), (0,0))    # humidity profiles\nax_ta = plt.subplot2grid((3,1), (1,0))    # temperature profiles from zenith observations\nax_ta_bl = plt.subplot2grid((3,1), (2,0))    # temperature profiles from boundary layer scan\n\n# axis limits:\nheight_lims = [0, 8000]    # in m\n\n\n# plot data:\nxv, yv = np.meshgrid(HATPRO_DS['hua'].height.values, HATPRO_DS['hua'].time.values)\nrho_v_hat_curtain = ax_hua.contourf(yv, xv, 1000*HATPRO_DS['hua'].hua.values, levels=rho_v_levels,\n                                        cmap=rho_v_cmap)\nxv, yv = np.meshgrid(HATPRO_DS['ta'].height.values, HATPRO_DS['ta'].time.values)\ntemp_hat_curtain = ax_ta.contourf(yv, xv, HATPRO_DS['ta'].ta.values, levels=temp_levels,\n                                      cmap=temp_cmap)\nxv, yv = np.meshgrid(HATPRO_DS['ta_bl'].height.values, HATPRO_DS['ta_bl'].time.values)\ntemp_bl_hat_curtain = ax_ta_bl.contourf(yv, xv, HATPRO_DS['ta_bl'].ta.values, levels=temp_levels,\n                                      cmap=temp_cmap)\n\n\n# some subplot identifiers:\nax_hua.text(0.02, 0.95, \"HATPRO humidity profile\", color=(1,1,1), fontweight='bold', ha='left', va='top', transform=ax_hua.transAxes)\nax_ta.text(0.02, 0.95, \"HATPRO temperature profile (zenith)\", color=(1,1,1), fontweight='bold', ha='left', va='top', transform=ax_ta.transAxes)\nax_ta_bl.text(0.02, 0.95, \"HATPRO temperature profile (BL mode)\", color=(1,1,1), fontweight='bold', ha='left', va='top', transform=ax_ta_bl.transAxes)\n\n# colorbars:\ncb_hua = fig1.colorbar(mappable=rho_v_hat_curtain, ax=ax_hua, use_gridspec=True, extend='max', orientation='vertical', fraction=0.09, pad=0.01, shrink=0.9)\ncb_hua.set_label(label=\"$\\\\rho_v$ ($\\mathrm{g}\\,\\mathrm{m}^{-3}$)\")\ncb_ta = fig1.colorbar(mappable=temp_hat_curtain, ax=ax_ta, use_gridspec=True, extend='max', orientation='vertical', fraction=0.09, pad=0.01, shrink=0.9)\ncb_ta.set_label(label=\"T (K)\")\ncb_ta_bl = fig1.colorbar(mappable=temp_bl_hat_curtain, ax=ax_ta_bl, use_gridspec=True, extend='max', orientation='vertical', fraction=0.09, pad=0.01, shrink=0.9)\ncb_ta_bl.set_label(label=\"T (K)\")",
      "metadata": {},
      "execution_count": null,
      "outputs": []
    }
  ]
}